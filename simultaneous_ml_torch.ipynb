{
 "cells": [
  {
   "cell_type": "markdown",
   "id": "826e7fb4",
   "metadata": {},
   "source": [
    "# Simultaneous Kelly Criterion\n",
    "\n",
    "This is a Python implementation of a simultaneous Kelly Criterion optimizer.\n",
    "This code is based heavily on code available in [this article](https://vegapit.com/article/numerically_solve_kelly_criterion_multiple_simultaneous_bets).\n",
    "\n",
    "The general expression for the Kelly Criterion of $n$ simultaneous bets is as follows:\n",
    "\n",
    "- $p_i$ is the probability of winning the $i$th bet\n",
    "- $f_i$ is the wager amount of the $i$th bet\n",
    "- $b_i$ is the decimal odds of the $i$th bet, note here that I use the odds as they would be listed at a sportsbook and not net odds as typically used\n",
    "\n",
    "(Todo)\n",
    "\n",
    "$\\sum_{i=1}^n$"
   ]
  },
  {
   "cell_type": "code",
   "execution_count": 1,
   "id": "63e33765",
   "metadata": {},
   "outputs": [],
   "source": [
    "import itertools\n",
    "import math\n",
    "\n",
    "import numpy as np\n",
    "import pandas as pd\n",
    "import torch\n",
    "from tqdm import tqdm, trange"
   ]
  },
  {
   "cell_type": "code",
   "execution_count": 2,
   "id": "e1c15e62",
   "metadata": {},
   "outputs": [
    {
     "data": {
      "text/plain": [
       "'cpu'"
      ]
     },
     "execution_count": 2,
     "metadata": {},
     "output_type": "execute_result"
    }
   ],
   "source": [
    "# device = torch.device(\"cuda:0\" if torch.cuda.is_available() else \"cpu\")\n",
    "device = \"cpu\"\n",
    "device"
   ]
  },
  {
   "cell_type": "code",
   "execution_count": 3,
   "id": "f79fe225",
   "metadata": {},
   "outputs": [],
   "source": [
    "in_df = pd.read_excel(\"bet_optimizer_input.xlsx\")\n",
    "num_bets = in_df.shape[0]"
   ]
  },
  {
   "cell_type": "code",
   "execution_count": 4,
   "id": "2ea34718",
   "metadata": {},
   "outputs": [],
   "source": [
    "bankroll = 9644.82\n",
    "max_bet = 1.0 * bankroll\n",
    "\n",
    "# Inputs of weights to tensorflow\n",
    "probs = torch.tensor(in_df[\"FiveThirtyEight Probability\"]).to(device)\n",
    "odds = torch.tensor(in_df[\"Odds\"]).to(device)\n",
    "\n",
    "# Amounts we want to optimize\n",
    "# wager_amts = torch.tensor(torch.FloatTensor(num_bets).uniform_(0, 1 / num_bets), requires_grad=True)\n",
    "wager_amts = torch.zeros(num_bets, requires_grad=True, dtype=torch.float64, device=device)"
   ]
  },
  {
   "cell_type": "code",
   "execution_count": 5,
   "id": "d1a95bef",
   "metadata": {},
   "outputs": [],
   "source": [
    "def kc_vec(amts):\n",
    "    \"\"\"\n",
    "    Vectorized compuation of Kelly Criterion for all bets\n",
    "    \"\"\"\n",
    "    amts = amts.clamp(0, max_bet)\n",
    "    # Generate all possible permutations of winning/losing each bet\n",
    "    win_permutations = torch.cartesian_prod(*[torch.tensor([0, 1])]*num_bets).to(device)\n",
    "    \n",
    "    # Compute probability of winning each bet\n",
    "    prob_coeff = torch.where(win_permutations == 0, 1 - probs, probs).prod(axis=1)\n",
    "    # Compute profit of each bet\n",
    "    wealth = torch.where(win_permutations == 0, -1 * amts, amts * (odds - 1)).sum(axis=1)\n",
    "    \n",
    "    return -1 * (prob_coeff * torch.log(bankroll + wealth)).sum()"
   ]
  },
  {
   "cell_type": "code",
   "execution_count": 6,
   "id": "074aad35",
   "metadata": {},
   "outputs": [],
   "source": [
    "def loss_closure():\n",
    "    loss_val = kelly_criterion(wager_amts)\n",
    "    loss_val.backward()\n",
    "    return loss_val"
   ]
  },
  {
   "cell_type": "code",
   "execution_count": 7,
   "id": "dda9dee7",
   "metadata": {
    "tags": []
   },
   "outputs": [
    {
     "name": "stderr",
     "output_type": "stream",
     "text": [
      "100%|█| 10000/10000 [00:05<00:00, 1846.48 epochs/s, amounts=tensor([ 542.6691,   46.7306,  138.9998,   21.5586,   23.013\n"
     ]
    }
   ],
   "source": [
    "epochs = 10000\n",
    "\n",
    "optimizer = torch.optim.SGD([wager_amts], lr=bankroll / epochs, momentum=0)\n",
    "optimizer.zero_grad()\n",
    "\n",
    "min_loss = 0\n",
    "rec_amts = None\n",
    "\n",
    "pbar = trange(epochs, miniters=250, unit=\" epochs\")\n",
    "\n",
    "for _ in pbar:\n",
    "    loss = kc_vec(wager_amts)\n",
    "    \n",
    "    with torch.no_grad():\n",
    "        if loss.item() < min_loss:\n",
    "            min_loss = loss.item()\n",
    "            rec_amts = wager_amts.detach()\n",
    "    loss.backward()\n",
    "    optimizer.step()\n",
    "    wager_amts.data.clamp_(0, max_bet)\n",
    "    pbar.set_postfix(refresh=False, loss=loss.data, amounts=wager_amts.data)"
   ]
  },
  {
   "cell_type": "code",
   "execution_count": 8,
   "id": "0f937720",
   "metadata": {},
   "outputs": [
    {
     "name": "stdout",
     "output_type": "stream",
     "text": [
      "Log EV of recommended bets: 9.2031\n",
      "Baseline of no bets: 9.1742\n",
      "Differential: +0.0289\n"
     ]
    }
   ],
   "source": [
    "baseline = math.log(bankroll)\n",
    "print(f\"Log EV of recommended bets: {-min_loss:.4f}\")\n",
    "print(f\"Baseline of no bets: {baseline:.4f}\")\n",
    "print(f\"Differential: {-min_loss - (baseline):+.4f}\")"
   ]
  },
  {
   "cell_type": "code",
   "execution_count": 9,
   "id": "8b09cbfe",
   "metadata": {},
   "outputs": [],
   "source": [
    "in_df[\"Wager Amount\"] = rec_amts.cpu()\n",
    "in_df[\"Single KC Amount\"] = (in_df[\"FiveThirtyEight Probability\"] - (1 - in_df[\"FiveThirtyEight Probability\"]) / (in_df[\"Odds\"] - 1)) * bankroll\n",
    "in_df[\"Potential Profit\"] = in_df[\"Wager Amount\"] * (in_df[\"Odds\"] - 1)\n",
    "in_df[\"Potential Profit %\"] = in_df[\"Potential Profit\"] / bankroll"
   ]
  },
  {
   "cell_type": "code",
   "execution_count": 10,
   "id": "665c1ab7",
   "metadata": {},
   "outputs": [
    {
     "name": "stdout",
     "output_type": "stream",
     "text": [
      "Max bet: 9644.82\n"
     ]
    }
   ],
   "source": [
    "print(f\"Max bet: {max_bet:.2f}\")"
   ]
  },
  {
   "cell_type": "code",
   "execution_count": 11,
   "id": "0a92a460",
   "metadata": {
    "tags": []
   },
   "outputs": [
    {
     "data": {
      "text/html": [
       "<style type=\"text/css\">\n",
       "</style>\n",
       "<table id=\"T_d26e9\">\n",
       "  <thead>\n",
       "    <tr>\n",
       "      <th class=\"blank level0\" >&nbsp;</th>\n",
       "      <th id=\"T_d26e9_level0_col0\" class=\"col_heading level0 col0\" >Team</th>\n",
       "      <th id=\"T_d26e9_level0_col1\" class=\"col_heading level0 col1\" >Odds</th>\n",
       "      <th id=\"T_d26e9_level0_col2\" class=\"col_heading level0 col2\" >FiveThirtyEight Probability</th>\n",
       "      <th id=\"T_d26e9_level0_col3\" class=\"col_heading level0 col3\" >Wager Amount</th>\n",
       "      <th id=\"T_d26e9_level0_col4\" class=\"col_heading level0 col4\" >Single KC Amount</th>\n",
       "      <th id=\"T_d26e9_level0_col5\" class=\"col_heading level0 col5\" >Potential Profit</th>\n",
       "      <th id=\"T_d26e9_level0_col6\" class=\"col_heading level0 col6\" >Potential Profit %</th>\n",
       "    </tr>\n",
       "  </thead>\n",
       "  <tbody>\n",
       "    <tr>\n",
       "      <th id=\"T_d26e9_level0_row0\" class=\"row_heading level0 row0\" >0</th>\n",
       "      <td id=\"T_d26e9_row0_col0\" class=\"data row0 col0\" >Italy</td>\n",
       "      <td id=\"T_d26e9_row0_col1\" class=\"data row0 col1\" >1.690000</td>\n",
       "      <td id=\"T_d26e9_row0_col2\" class=\"data row0 col2\" >66.00%</td>\n",
       "      <td id=\"T_d26e9_row0_col3\" class=\"data row0 col3\" >$542.67</td>\n",
       "      <td id=\"T_d26e9_row0_col4\" class=\"data row0 col4\" >$1613.06</td>\n",
       "      <td id=\"T_d26e9_row0_col5\" class=\"data row0 col5\" >$374.44</td>\n",
       "      <td id=\"T_d26e9_row0_col6\" class=\"data row0 col6\" >3.88%</td>\n",
       "    </tr>\n",
       "    <tr>\n",
       "      <th id=\"T_d26e9_level0_row1\" class=\"row_heading level0 row1\" >1</th>\n",
       "      <td id=\"T_d26e9_row1_col0\" class=\"data row1 col0\" >Germany</td>\n",
       "      <td id=\"T_d26e9_row1_col1\" class=\"data row1 col1\" >1.278000</td>\n",
       "      <td id=\"T_d26e9_row1_col2\" class=\"data row1 col2\" >79.00%</td>\n",
       "      <td id=\"T_d26e9_row1_col3\" class=\"data row1 col3\" >$46.73</td>\n",
       "      <td id=\"T_d26e9_row1_col4\" class=\"data row1 col4\" >$333.75</td>\n",
       "      <td id=\"T_d26e9_row1_col5\" class=\"data row1 col5\" >$12.99</td>\n",
       "      <td id=\"T_d26e9_row1_col6\" class=\"data row1 col6\" >0.13%</td>\n",
       "    </tr>\n",
       "    <tr>\n",
       "      <th id=\"T_d26e9_level0_row2\" class=\"row_heading level0 row2\" >2</th>\n",
       "      <td id=\"T_d26e9_row2_col0\" class=\"data row2 col0\" >England</td>\n",
       "      <td id=\"T_d26e9_row2_col1\" class=\"data row2 col1\" >1.182000</td>\n",
       "      <td id=\"T_d26e9_row2_col2\" class=\"data row2 col2\" >87.00%</td>\n",
       "      <td id=\"T_d26e9_row2_col3\" class=\"data row2 col3\" >$139.00</td>\n",
       "      <td id=\"T_d26e9_row2_col4\" class=\"data row2 col4\" >$1501.84</td>\n",
       "      <td id=\"T_d26e9_row2_col5\" class=\"data row2 col5\" >$25.30</td>\n",
       "      <td id=\"T_d26e9_row2_col6\" class=\"data row2 col6\" >0.26%</td>\n",
       "    </tr>\n",
       "    <tr>\n",
       "      <th id=\"T_d26e9_level0_row3\" class=\"row_heading level0 row3\" >3</th>\n",
       "      <td id=\"T_d26e9_row3_col0\" class=\"data row3 col0\" >France</td>\n",
       "      <td id=\"T_d26e9_row3_col1\" class=\"data row3 col1\" >1.435000</td>\n",
       "      <td id=\"T_d26e9_row3_col2\" class=\"data row3 col2\" >70.00%</td>\n",
       "      <td id=\"T_d26e9_row3_col3\" class=\"data row3 col3\" >$21.56</td>\n",
       "      <td id=\"T_d26e9_row3_col4\" class=\"data row3 col4\" >$99.77</td>\n",
       "      <td id=\"T_d26e9_row3_col5\" class=\"data row3 col5\" >$9.38</td>\n",
       "      <td id=\"T_d26e9_row3_col6\" class=\"data row3 col6\" >0.10%</td>\n",
       "    </tr>\n",
       "    <tr>\n",
       "      <th id=\"T_d26e9_level0_row4\" class=\"row_heading level0 row4\" >4</th>\n",
       "      <td id=\"T_d26e9_row4_col0\" class=\"data row4 col0\" >Portugal</td>\n",
       "      <td id=\"T_d26e9_row4_col1\" class=\"data row4 col1\" >1.182000</td>\n",
       "      <td id=\"T_d26e9_row4_col2\" class=\"data row4 col2\" >85.00%</td>\n",
       "      <td id=\"T_d26e9_row4_col3\" class=\"data row4 col3\" >$23.01</td>\n",
       "      <td id=\"T_d26e9_row4_col4\" class=\"data row4 col4\" >$249.07</td>\n",
       "      <td id=\"T_d26e9_row4_col5\" class=\"data row4 col5\" >$4.19</td>\n",
       "      <td id=\"T_d26e9_row4_col6\" class=\"data row4 col6\" >0.04%</td>\n",
       "    </tr>\n",
       "    <tr>\n",
       "      <th id=\"T_d26e9_level0_row5\" class=\"row_heading level0 row5\" >5</th>\n",
       "      <td id=\"T_d26e9_row5_col0\" class=\"data row5 col0\" >Turkey</td>\n",
       "      <td id=\"T_d26e9_row5_col1\" class=\"data row5 col1\" >2.830000</td>\n",
       "      <td id=\"T_d26e9_row5_col2\" class=\"data row5 col2\" >46.00%</td>\n",
       "      <td id=\"T_d26e9_row5_col3\" class=\"data row5 col3\" >$1268.46</td>\n",
       "      <td id=\"T_d26e9_row5_col4\" class=\"data row5 col4\" >$1590.60</td>\n",
       "      <td id=\"T_d26e9_row5_col5\" class=\"data row5 col5\" >$2321.29</td>\n",
       "      <td id=\"T_d26e9_row5_col6\" class=\"data row5 col6\" >24.07%</td>\n",
       "    </tr>\n",
       "  </tbody>\n",
       "</table>\n"
      ],
      "text/plain": [
       "<pandas.io.formats.style.Styler at 0x7f510ae61b40>"
      ]
     },
     "execution_count": 11,
     "metadata": {},
     "output_type": "execute_result"
    }
   ],
   "source": [
    "in_df.style.format({\n",
    "    \"Odds\": '{:f}',\n",
    "    \"FiveThirtyEight Probability\": '{:.2%}',\n",
    "    \"Wager Amount\": '${:.2f}',\n",
    "    \"Single KC Amount\": '${:.2f}',\n",
    "    \"Potential Profit\": '${:.2f}',\n",
    "    \"Potential Profit %\": '{:.2%}'\n",
    "})"
   ]
  },
  {
   "cell_type": "code",
   "execution_count": 12,
   "id": "3cdf429e",
   "metadata": {},
   "outputs": [
    {
     "data": {
      "text/plain": [
       "Wager Amount        2041.435979\n",
       "Single KC Amount    5388.098130\n",
       "dtype: float64"
      ]
     },
     "execution_count": 12,
     "metadata": {},
     "output_type": "execute_result"
    }
   ],
   "source": [
    "in_df[[\"Wager Amount\",\"Single KC Amount\"]].sum()"
   ]
  },
  {
   "cell_type": "code",
   "execution_count": null,
   "id": "5ef25ccf-5d55-401c-b799-b7b33faee04d",
   "metadata": {},
   "outputs": [],
   "source": []
  }
 ],
 "metadata": {
  "kernelspec": {
   "display_name": "Python 3 (ipykernel)",
   "language": "python",
   "name": "python3"
  },
  "language_info": {
   "codemirror_mode": {
    "name": "ipython",
    "version": 3
   },
   "file_extension": ".py",
   "mimetype": "text/x-python",
   "name": "python",
   "nbconvert_exporter": "python",
   "pygments_lexer": "ipython3",
   "version": "3.10.12"
  }
 },
 "nbformat": 4,
 "nbformat_minor": 5
}
